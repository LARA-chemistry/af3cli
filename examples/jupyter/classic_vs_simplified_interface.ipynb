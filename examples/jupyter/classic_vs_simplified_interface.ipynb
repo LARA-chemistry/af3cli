{
 "cells": [
  {
   "cell_type": "markdown",
   "metadata": {},
   "source": [
    "# Classic vs simplified interface \n",
    "\n",
    "We use examples of the application note to illustrate the difference between the classic and simplified interface."
   ]
  },
  {
   "cell_type": "code",
   "execution_count": 1,
   "metadata": {},
   "outputs": [],
   "source": [
    "\n",
    "import pprint\n",
    "from pathlib import Path\n",
    "from af3cli import InputBuilder, ProteinSequence, DNASequence, RNASequence, SequenceType, LigandType, Ligand, CCDLigand\n",
    "from af3cli.sequence import read_fasta, fasta2seq\n",
    "from af3utils.simple_builder import SimpleBuilder\n",
    "\n"
   ]
  },
  {
   "cell_type": "code",
   "execution_count": 2,
   "metadata": {},
   "outputs": [],
   "source": [
    "# Define filename and job name\n",
    "FILENAME=\"paper_insulin_dimer_water_cli.json\"\n",
    "JOB_NAME=\"paper_insulin_dimer_water_cli_job\"\n",
    "\n",
    "# Sequence entries\n",
    "\n",
    "## Protein entries\n",
    "CHAIN_A=\"\\\n",
    "GIVEQCCTSICSLYQLENYCN\\\n",
    "\"\n",
    "CHAIN_B=\"\\\n",
    "FVNQHLCGSHLVEALYLVCGERGFFYTPKA\\\n",
    "\"\n",
    "\n",
    "# Water molecules\n",
    "WATER=\"O\"\n",
    "WATER_NUM=96\n"
   ]
  },
  {
   "cell_type": "markdown",
   "metadata": {},
   "source": [
    "--------- \n",
    "## Simple sequence"
   ]
  },
  {
   "cell_type": "markdown",
   "metadata": {},
   "source": [
    "## Classic"
   ]
  },
  {
   "cell_type": "markdown",
   "metadata": {},
   "source": []
  },
  {
   "cell_type": "code",
   "execution_count": null,
   "metadata": {},
   "outputs": [],
   "source": [
    "input_builder = InputBuilder()\n",
    "input_builder.set_name(JOB_NAME)\n",
    "input_builder.add_sequence(ProteinSequence(CHAIN_A, num=2))\n",
    "input_builder.add_sequence(ProteinSequence(CHAIN_B, num=2))\n",
    "\n",
    "input_builder.add_ligand(Ligand(ligand_type=LigandType.SMILES, ligand_value=WATER, num=WATER_NUM))\n",
    "internal_input = input_builder.build()\n",
    "\n",
    "# Uncomment following line to generate output as JSON file\n",
    "#internal_input.write(FILENAME)\n",
    "\n",
    "print_json_via_debug = pprint.PrettyPrinter(indent=4)\n",
    "print_json_via_debug.pprint(internal_input.to_dict())"
   ]
  },
  {
   "cell_type": "code",
   "execution_count": null,
   "metadata": {},
   "outputs": [],
   "source": [
    "input_builder = InputBuilder()\n",
    "input_builder.set_name(JOB_NAME)\n",
    "input_builder.add_sequence(ProteinSequence(CHAIN_A, num=6))\n",
    "input_builder.add_sequence(ProteinSequence(CHAIN_B, num=6))\n",
    "\n",
    "input_builder.add_ligand(Ligand(ligand_type=LigandType.SMILES, ligand_value=WATER, num=WATER_NUM))\n",
    "internal_input = input_builder.build()\n",
    "\n",
    "# Uncomment following line to generate output as JSON file\n",
    "#internal_input.write(FILENAME)\n",
    "\n",
    "print_json_via_debug = pprint.PrettyPrinter(indent=4)\n",
    "print_json_via_debug.pprint(internal_input.to_dict())"
   ]
  },
  {
   "cell_type": "code",
   "execution_count": null,
   "metadata": {},
   "outputs": [],
   "source": [
    "input_builder = InputBuilder()\n",
    "input_builder.set_name(JOB_NAME)\n",
    "input_builder.add_sequence(ProteinSequence(\"AAAAAAAAAAA\", num=6))\n",
    "input_builder.add_sequence(ProteinSequence(\"AAAAAAAAAAAAA\", num=4))\n",
    "\n",
    "input_builder.add_ligand(Ligand(ligand_type=LigandType.SMILES, ligand_value=WATER, num=WATER_NUM))\n",
    "internal_input = input_builder.build()\n",
    "\n",
    "# Uncomment following line to generate output as JSON file\n",
    "#internal_input.write(FILENAME)\n",
    "\n",
    "print_json_via_debug = pprint.PrettyPrinter(indent=4)\n",
    "print_json_via_debug.pprint(internal_input.to_dict())"
   ]
  },
  {
   "cell_type": "markdown",
   "metadata": {},
   "source": [
    "## Simplified \n"
   ]
  },
  {
   "cell_type": "code",
   "execution_count": null,
   "metadata": {},
   "outputs": [],
   "source": [
    "input_builder = SimpleBuilder()\n",
    "input_builder.set_name(JOB_NAME)\n",
    "input_builder.add_sequence_str(seq_str=CHAIN_A, num=2)\n",
    "input_builder.add_sequence_str(seq_str=CHAIN_B, num=2)\n",
    "\n",
    "input_builder.add_ligand_smiles(smiles_str=WATER, num=WATER_NUM)\n",
    "internal_input = input_builder.build()\n",
    "\n",
    "print_json_via_debug = pprint.PrettyPrinter(indent=4)\n",
    "print_json_via_debug.pprint(internal_input.to_dict())"
   ]
  },
  {
   "cell_type": "code",
   "execution_count": null,
   "metadata": {},
   "outputs": [],
   "source": [
    "input_builder = SimpleBuilder()\n",
    "input_builder.set_name(JOB_NAME)\n",
    "input_builder.add_sequence_str(seq_str=CHAIN_A, num=6)\n",
    "input_builder.add_sequence_str(seq_str=CHAIN_B, num=6)\n",
    "\n",
    "input_builder.add_ligand_smiles(smiles_str=WATER, num=WATER_NUM)\n",
    "internal_input = input_builder.build()\n",
    "\n",
    "print_json_via_debug = pprint.PrettyPrinter(indent=4)\n",
    "print_json_via_debug.pprint(internal_input.to_dict())"
   ]
  },
  {
   "cell_type": "code",
   "execution_count": null,
   "metadata": {},
   "outputs": [],
   "source": [
    "input_builder = SimpleBuilder()\n",
    "input_builder.set_name(JOB_NAME)\n",
    "input_builder.add_sequence_str(\"AAAAAAAAAAL\", num=6)\n",
    "input_builder.add_sequence_str(\"AAAAAAAAAAAAG\", num=4)\n",
    "\n",
    "input_builder.add_ligand_smiles(smiles_str=WATER, num=WATER_NUM)\n",
    "internal_input = input_builder.build()\n",
    "\n",
    "# Uncomment following line to generate output as JSON file\n",
    "#internal_input.write(FILENAME)\n",
    "\n",
    "print_json_via_debug = pprint.PrettyPrinter(indent=4)\n",
    "print_json_via_debug.pprint(internal_input.to_dict())"
   ]
  },
  {
   "cell_type": "code",
   "execution_count": null,
   "metadata": {},
   "outputs": [],
   "source": [
    "# amended version\n",
    "\n",
    "input_builder = SimpleBuilder()\n",
    "input_builder.set_name(JOB_NAME)\n",
    "input_builder.add_sequence_str(\"AAAAAAAAAAA\", num=6, seq_type=SequenceType.PROTEIN)\n",
    "input_builder.add_sequence_str(\"AAAAAAAAAAAAA\", num=4, seq_type=SequenceType.PROTEIN)\n",
    "\n",
    "input_builder.add_ligand_smiles(smiles_str=WATER, num=WATER_NUM)\n",
    "internal_input = input_builder.build()\n",
    "\n",
    "# Uncomment following line to generate output as JSON file\n",
    "#internal_input.write(FILENAME)\n",
    "\n",
    "print_json_via_debug = pprint.PrettyPrinter(indent=4)\n",
    "print_json_via_debug.pprint(internal_input.to_dict())"
   ]
  },
  {
   "cell_type": "markdown",
   "metadata": {},
   "source": [
    "### Auto-sequence detection heuristics"
   ]
  },
  {
   "cell_type": "code",
   "execution_count": null,
   "metadata": {},
   "outputs": [],
   "source": [
    "input_builder = SimpleBuilder()\n",
    "input_builder.set_name(JOB_NAME)\n",
    "input_builder.add_sequence_str(\"AAACGU\")\n",
    "input_builder.add_sequence_str(\"AAATAGC\")\n",
    "input_builder.add_sequence_str(\"ATGC\")\n",
    "input_builder.add_sequence_str(\"AGAT\")\n",
    "input_builder.add_sequence_str(\"AAACAU\")\n",
    "input_builder.add_sequence_str(\"AAACAWQ\")\n",
    "\n",
    "internal_input = input_builder.build()\n",
    "\n",
    "print_json_via_debug = pprint.PrettyPrinter(indent=4)\n",
    "print_json_via_debug.pprint(internal_input.to_dict())"
   ]
  },
  {
   "cell_type": "markdown",
   "metadata": {},
   "source": [
    "------ \n",
    "\n",
    "## Complex Example"
   ]
  },
  {
   "cell_type": "markdown",
   "metadata": {},
   "source": [
    "## Classic"
   ]
  },
  {
   "cell_type": "code",
   "execution_count": null,
   "metadata": {},
   "outputs": [],
   "source": [
    "pdb_4P5J_tuple = next(read_fasta(\"../data/rcsb_pdb_4P5J.fasta\"))\n",
    "pdb_4P5J_tuple"
   ]
  },
  {
   "cell_type": "code",
   "execution_count": null,
   "metadata": {},
   "outputs": [],
   "source": [
    "input_builder = InputBuilder()\n",
    "\n",
    "input_builder.set_name(JOB_NAME)\n",
    "cdk2_tuple = next(read_fasta(\"../data/CDK2.fasta\"))\n",
    "mek1_tuple = next(read_fasta(\"../data/mek1.fasta\"))\n",
    "\n",
    "input_builder.add_sequence(ProteinSequence(seq_name=cdk2_tuple[0], seq_str=cdk2_tuple[1], num=2))\n",
    "input_builder.add_sequence(ProteinSequence(seq_name=mek1_tuple[0], seq_str=mek1_tuple[1], num=2))\n",
    "\n",
    "input_builder.add_ligand( CCDLigand([\"WNT\"], seq_id=[\"B\"] ))\n",
    "internal_input = input_builder.build()\n",
    "\n",
    "print_json_via_debug = pprint.PrettyPrinter(indent=4)\n",
    "print_json_via_debug.pprint(internal_input.to_dict())"
   ]
  },
  {
   "cell_type": "code",
   "execution_count": null,
   "metadata": {},
   "outputs": [],
   "source": [
    "cdk2_tuple = next(read_fasta(\"../data/CDK2.fasta\"))\n",
    "input_builder.add_sequence(ProteinSequence(seq_name=cdk2_tuple[0], seq_str=cdk2_tuple[1], num=2))"
   ]
  },
  {
   "cell_type": "code",
   "execution_count": null,
   "metadata": {},
   "outputs": [],
   "source": [
    "input_builder = InputBuilder()\n",
    "\n",
    "input_builder.set_name(JOB_NAME)\n",
    "cdk2_tuple = next(read_fasta(\"../data/CDK2.fasta\"))\n",
    "mek1_tuple = next(read_fasta(\"../data/mek1.fasta\"))\n",
    "\n",
    "input_builder.add_sequence(ProteinSequence(seq_name=cdk2_tuple[0], seq_str=cdk2_tuple[1], num=4))\n",
    "input_builder.add_sequence(ProteinSequence(seq_name=mek1_tuple[0], seq_str=mek1_tuple[1], num=6))\n",
    "\n",
    "input_builder.add_ligand( CCDLigand([\"WNT\"], seq_id=[\"B\"] ))\n",
    "internal_input = input_builder.build()\n",
    "\n",
    "print_json_via_debug = pprint.PrettyPrinter(indent=4)\n",
    "print_json_via_debug.pprint(internal_input.to_dict())"
   ]
  },
  {
   "cell_type": "markdown",
   "metadata": {},
   "source": [
    "## Simplified"
   ]
  },
  {
   "cell_type": "code",
   "execution_count": null,
   "metadata": {},
   "outputs": [],
   "source": [
    "input_builder = SimpleBuilder()\n",
    "\n",
    "input_builder.set_name(JOB_NAME)\n",
    "\n",
    "input_builder.add_sequence_fasta(fasta_filename=\"../data/CDK2.fasta\", num=2)\n",
    "input_builder.add_sequence_fasta(fasta_filename=\"../data/mek1.fasta\", num=2)\n",
    "\n",
    "\n",
    "input_builder.add_ligand_ccd( ccd_code=\"WNT\", seq_id=[\"B\"] )\n",
    "internal_input = input_builder.build()\n",
    "\n",
    "print_json_via_debug = pprint.PrettyPrinter(indent=4)\n",
    "print_json_via_debug.pprint(internal_input.to_dict())"
   ]
  },
  {
   "cell_type": "code",
   "execution_count": null,
   "metadata": {},
   "outputs": [],
   "source": [
    "input_builder = SimpleBuilder()\n",
    "\n",
    "input_builder.set_name(JOB_NAME)\n",
    "\n",
    "input_builder.add_sequence_fasta(fasta_filename=\"../data/CDK2.fasta\", num=4)\n",
    "input_builder.add_sequence_fasta(fasta_filename=\"../data/mek1.fasta\", num=6)\n",
    "\n",
    "\n",
    "input_builder.add_ligand_ccd( ccd_code=\"WNT\", seq_id=[\"B\"] )\n",
    "internal_input = input_builder.build()\n",
    "\n",
    "print_json_via_debug = pprint.PrettyPrinter(indent=4)\n",
    "print_json_via_debug.pprint(internal_input.to_dict())"
   ]
  },
  {
   "cell_type": "code",
   "execution_count": null,
   "metadata": {},
   "outputs": [],
   "source": []
  },
  {
   "cell_type": "code",
   "execution_count": null,
   "metadata": {},
   "outputs": [],
   "source": []
  }
 ],
 "metadata": {
  "kernelspec": {
   "display_name": ".venv",
   "language": "python",
   "name": "python3"
  },
  "language_info": {
   "codemirror_mode": {
    "name": "ipython",
    "version": 3
   },
   "file_extension": ".py",
   "mimetype": "text/x-python",
   "name": "python",
   "nbconvert_exporter": "python",
   "pygments_lexer": "ipython3",
   "version": "3.11.11"
  }
 },
 "nbformat": 4,
 "nbformat_minor": 2
}
